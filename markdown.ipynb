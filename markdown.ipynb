{
 "cells": [
  {
   "cell_type": "markdown",
   "metadata": {
    "slideshow": {
     "slide_type": "slide"
    }
   },
   "source": [
    "[intern länk]: index.html\n",
    "[dn länk]: http://www.dn.se\n",
    "\n",
    "\n",
    "# Markdown (slideshow) tutorial\n",
    "I det här dokumentet har jag för avsikt att testa lite [markdown](https://en.wikipedia.org/wiki/Markdown) funktionallitet.\n",
    "\n",
    "Vi börjar med lite _lutande stil_... och **fet** eller varför inte **_både och_**. Jag har redan testat externa länkar och här kommer en länk till [dn][dn länk]. Om jag vill referera ett [internt][intern länk] dokument\n",
    "\n",
    "Jag kommer sedan transformera denna `jupyter notebook` sida till en `reveal.js` slideshow! Intressant!\n",
    "\n"
   ]
  },
  {
   "cell_type": "markdown",
   "metadata": {
    "collapsed": true,
    "slideshow": {
     "slide_type": "slide"
    }
   },
   "source": [
    "## [Bilder](images/)...\n",
    "[exempel 1]: images/example1.png\n",
    "\n",
    "![en bild][exempel 1]\n",
    "![ytterligare en bild](images/example2.png)\n"
   ]
  },
  {
   "cell_type": "markdown",
   "metadata": {
    "slideshow": {
     "slide_type": "skip"
    }
   },
   "source": [
    "[another-place]: www.dn.se"
   ]
  },
  {
   "cell_type": "markdown",
   "metadata": {
    "collapsed": true,
    "slideshow": {
     "slide_type": "slide"
    }
   },
   "source": [
    "## Mera markdown...\n",
    "> Detta är en lång text som jag har kopierat från något ställe. Jag undrar vart ifrån den kommer men det spelar inte så stor roll eftersom det är en lång text som jag är ute efter...\n",
    ">\n",
    "> Det är en lång text som sträcker sig över flera rader:\n",
    ">- lista!\n",
    ">- item\n",
    "\n",
    "Som man kan se, det blir en `referens` av det hela..."
   ]
  },
  {
   "cell_type": "markdown",
   "metadata": {
    "slideshow": {
     "slide_type": "slide"
    }
   },
   "source": [
    "## Lite om listor:\n",
    "\n",
    "- ett element\n",
    "- ytterligare ett element\n",
    "    - test\n",
    "    - tset\n",
    "        * A\n",
    "        * B\n",
    "            * C\n",
    "            * D\n",
    "\n",
    "Nu ska vi se om vi kan numrera också:\n",
    "1. Ett  \n",
    " Här kommer lite mer text.\n",
    "\n",
    "2. Två  \n",
    " På nivå två blir det lite svårare.  \n",
    "    * några punkter\n",
    "    * att tänka på\n",
    "    * ...\n",
    "\n",
    "3. Tre  \n",
    " Hur kommer man ur det här?\n",
    " \n",
    "Om jag vill skriva en sammanhängande text men ha hårda radbrytningar?  \n",
    "Då behövs två `space` efter varje rad  \n",
    "dvs två \"` `\""
   ]
  },
  {
   "cell_type": "markdown",
   "metadata": {
    "collapsed": true,
    "slideshow": {
     "slide_type": "slide"
    }
   },
   "source": [
    "## Konvertering:\n",
    "Det går att konverter dokument från ett format till ett annat och till vår hjälp har vi flera olika program t.ex. pandoc\n"
   ]
  },
  {
   "cell_type": "code",
   "execution_count": 1,
   "metadata": {
    "collapsed": true,
    "slideshow": {
     "slide_type": "subslide"
    }
   },
   "outputs": [],
   "source": [
    "%%bash\n",
    "pandoc markdown.md -o markdown.html\n",
    "pandoc markdown.md -o markdown.pdf"
   ]
  },
  {
   "cell_type": "markdown",
   "metadata": {
    "slideshow": {
     "slide_type": "slide"
    }
   },
   "source": [
    "Först så har vi vårt [markdown](markdown.md) dokument. Detta har konverterats till [html](markdown.html) samt [pdf](markdown.pdf). SWEET!"
   ]
  },
  {
   "cell_type": "markdown",
   "metadata": {
    "slideshow": {
     "slide_type": "slide"
    }
   },
   "source": [
    "## Slideshow:\n",
    "\n",
    "Så är det då dags att skapa en _slideshow_ av det här dokumentet!\n",
    "\n",
    "1. Ladda ner `reveal.js`  \n",
    " `git clone https://github.com/hakimel/reveal.js.git`\n",
    "\n",
    "2. skapa _slideshow_  \n",
    " `jupyter-nbconvert --to slides markdown.ipynb --reveal-prefix=reveal.js`"
   ]
  },
  {
   "cell_type": "code",
   "execution_count": 3,
   "metadata": {
    "slideshow": {
     "slide_type": "subslide"
    }
   },
   "outputs": [
    {
     "name": "stderr",
     "output_type": "stream",
     "text": [
      "bash: line 4: [: missing `]'\n",
      "[NbConvertApp] Converting notebook markdown.ipynb to slides\n",
      "[NbConvertApp] Writing 258327 bytes to markdown.slides.html\n"
     ]
    }
   ],
   "source": [
    "%%bash\n",
    "if [ ! -d \"reveal.js\" ]; then\n",
    "    git clone https://github.com/hakimel/reveal.js.git\n",
    "fi\n",
    "if [ -f \"markdown.slides.html\" ]; then\n",
    "    rm markdown.slides.html\n",
    "fi\n",
    "jupyter-nbconvert --to slides markdown.ipynb --reveal-prefix=reveal.js"
   ]
  },
  {
   "cell_type": "markdown",
   "metadata": {
    "slideshow": {
     "slide_type": "skip"
    }
   },
   "source": [
    "Klicka [här](markdown.slides.html) för slideshow."
   ]
  }
 ],
 "metadata": {
  "celltoolbar": "Slideshow",
  "kernelspec": {
   "display_name": "Python 3",
   "language": "python",
   "name": "python3"
  },
  "language_info": {
   "codemirror_mode": {
    "name": "ipython",
    "version": 3
   },
   "file_extension": ".py",
   "mimetype": "text/x-python",
   "name": "python",
   "nbconvert_exporter": "python",
   "pygments_lexer": "ipython3",
   "version": "3.6.1"
  }
 },
 "nbformat": 4,
 "nbformat_minor": 2
}
